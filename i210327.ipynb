{
 "cells": [
  {
   "cell_type": "code",
   "execution_count": 1,
   "metadata": {
    "execution": {
     "iopub.execute_input": "2024-09-14T17:32:52.107610Z",
     "iopub.status.busy": "2024-09-14T17:32:52.107005Z",
     "iopub.status.idle": "2024-09-14T17:32:52.114175Z",
     "shell.execute_reply": "2024-09-14T17:32:52.112868Z",
     "shell.execute_reply.started": "2024-09-14T17:32:52.107565Z"
    }
   },
   "outputs": [],
   "source": [
    "import pandas as pd\n",
    "import seaborn as sns\n",
    "import matplotlib.pyplot as plt\n",
    "import joblib"
   ]
  },
  {
   "cell_type": "markdown",
   "metadata": {},
   "source": [
    "# Loading Data\n",
    "Let's get started by loading the housing data into a dataframe using pd library"
   ]
  },
  {
   "cell_type": "code",
   "execution_count": 3,
   "metadata": {
    "execution": {
     "iopub.execute_input": "2024-09-14T17:25:19.741366Z",
     "iopub.status.busy": "2024-09-14T17:25:19.740882Z",
     "iopub.status.idle": "2024-09-14T17:25:19.764325Z",
     "shell.execute_reply": "2024-09-14T17:25:19.763180Z",
     "shell.execute_reply.started": "2024-09-14T17:25:19.741325Z"
    }
   },
   "outputs": [],
   "source": [
    "h_d = pd.read_csv('../input/housing-prices-dataset/Housing.csv')"
   ]
  },
  {
   "cell_type": "code",
   "execution_count": 4,
   "metadata": {
    "execution": {
     "iopub.execute_input": "2024-09-14T17:25:22.623041Z",
     "iopub.status.busy": "2024-09-14T17:25:22.622535Z",
     "iopub.status.idle": "2024-09-14T17:25:22.653464Z",
     "shell.execute_reply": "2024-09-14T17:25:22.652089Z",
     "shell.execute_reply.started": "2024-09-14T17:25:22.622974Z"
    }
   },
   "outputs": [
    {
     "data": {
      "text/html": [
       "<div>\n",
       "<style scoped>\n",
       "    .dataframe tbody tr th:only-of-type {\n",
       "        vertical-align: middle;\n",
       "    }\n",
       "\n",
       "    .dataframe tbody tr th {\n",
       "        vertical-align: top;\n",
       "    }\n",
       "\n",
       "    .dataframe thead th {\n",
       "        text-align: right;\n",
       "    }\n",
       "</style>\n",
       "<table border=\"1\" class=\"dataframe\">\n",
       "  <thead>\n",
       "    <tr style=\"text-align: right;\">\n",
       "      <th></th>\n",
       "      <th>price</th>\n",
       "      <th>area</th>\n",
       "      <th>bedrooms</th>\n",
       "      <th>bathrooms</th>\n",
       "      <th>stories</th>\n",
       "      <th>mainroad</th>\n",
       "      <th>guestroom</th>\n",
       "      <th>basement</th>\n",
       "      <th>hotwaterheating</th>\n",
       "      <th>airconditioning</th>\n",
       "      <th>parking</th>\n",
       "      <th>prefarea</th>\n",
       "      <th>furnishingstatus</th>\n",
       "    </tr>\n",
       "  </thead>\n",
       "  <tbody>\n",
       "    <tr>\n",
       "      <th>0</th>\n",
       "      <td>13300000</td>\n",
       "      <td>7420</td>\n",
       "      <td>4</td>\n",
       "      <td>2</td>\n",
       "      <td>3</td>\n",
       "      <td>yes</td>\n",
       "      <td>no</td>\n",
       "      <td>no</td>\n",
       "      <td>no</td>\n",
       "      <td>yes</td>\n",
       "      <td>2</td>\n",
       "      <td>yes</td>\n",
       "      <td>furnished</td>\n",
       "    </tr>\n",
       "    <tr>\n",
       "      <th>1</th>\n",
       "      <td>12250000</td>\n",
       "      <td>8960</td>\n",
       "      <td>4</td>\n",
       "      <td>4</td>\n",
       "      <td>4</td>\n",
       "      <td>yes</td>\n",
       "      <td>no</td>\n",
       "      <td>no</td>\n",
       "      <td>no</td>\n",
       "      <td>yes</td>\n",
       "      <td>3</td>\n",
       "      <td>no</td>\n",
       "      <td>furnished</td>\n",
       "    </tr>\n",
       "    <tr>\n",
       "      <th>2</th>\n",
       "      <td>12250000</td>\n",
       "      <td>9960</td>\n",
       "      <td>3</td>\n",
       "      <td>2</td>\n",
       "      <td>2</td>\n",
       "      <td>yes</td>\n",
       "      <td>no</td>\n",
       "      <td>yes</td>\n",
       "      <td>no</td>\n",
       "      <td>no</td>\n",
       "      <td>2</td>\n",
       "      <td>yes</td>\n",
       "      <td>semi-furnished</td>\n",
       "    </tr>\n",
       "    <tr>\n",
       "      <th>3</th>\n",
       "      <td>12215000</td>\n",
       "      <td>7500</td>\n",
       "      <td>4</td>\n",
       "      <td>2</td>\n",
       "      <td>2</td>\n",
       "      <td>yes</td>\n",
       "      <td>no</td>\n",
       "      <td>yes</td>\n",
       "      <td>no</td>\n",
       "      <td>yes</td>\n",
       "      <td>3</td>\n",
       "      <td>yes</td>\n",
       "      <td>furnished</td>\n",
       "    </tr>\n",
       "    <tr>\n",
       "      <th>4</th>\n",
       "      <td>11410000</td>\n",
       "      <td>7420</td>\n",
       "      <td>4</td>\n",
       "      <td>1</td>\n",
       "      <td>2</td>\n",
       "      <td>yes</td>\n",
       "      <td>yes</td>\n",
       "      <td>yes</td>\n",
       "      <td>no</td>\n",
       "      <td>yes</td>\n",
       "      <td>2</td>\n",
       "      <td>no</td>\n",
       "      <td>furnished</td>\n",
       "    </tr>\n",
       "  </tbody>\n",
       "</table>\n",
       "</div>"
      ],
      "text/plain": [
       "      price  area  bedrooms  bathrooms  stories mainroad guestroom basement  \\\n",
       "0  13300000  7420         4          2        3      yes        no       no   \n",
       "1  12250000  8960         4          4        4      yes        no       no   \n",
       "2  12250000  9960         3          2        2      yes        no      yes   \n",
       "3  12215000  7500         4          2        2      yes        no      yes   \n",
       "4  11410000  7420         4          1        2      yes       yes      yes   \n",
       "\n",
       "  hotwaterheating airconditioning  parking prefarea furnishingstatus  \n",
       "0              no             yes        2      yes        furnished  \n",
       "1              no             yes        3       no        furnished  \n",
       "2              no              no        2      yes   semi-furnished  \n",
       "3              no             yes        3      yes        furnished  \n",
       "4              no             yes        2       no        furnished  "
      ]
     },
     "execution_count": 4,
     "metadata": {},
     "output_type": "execute_result"
    }
   ],
   "source": [
    "h_d.head()"
   ]
  },
  {
   "cell_type": "markdown",
   "metadata": {},
   "source": [
    "From the pricing data we observe the values are continous, thus its a regression problem. We will need a regressor model to predict prices <br>"
   ]
  },
  {
   "cell_type": "code",
   "execution_count": 5,
   "metadata": {
    "execution": {
     "iopub.execute_input": "2024-09-14T17:25:36.003945Z",
     "iopub.status.busy": "2024-09-14T17:25:36.003466Z",
     "iopub.status.idle": "2024-09-14T17:25:36.015913Z",
     "shell.execute_reply": "2024-09-14T17:25:36.014580Z",
     "shell.execute_reply.started": "2024-09-14T17:25:36.003904Z"
    }
   },
   "outputs": [
    {
     "data": {
      "text/plain": [
       "price               0\n",
       "area                0\n",
       "bedrooms            0\n",
       "bathrooms           0\n",
       "stories             0\n",
       "mainroad            0\n",
       "guestroom           0\n",
       "basement            0\n",
       "hotwaterheating     0\n",
       "airconditioning     0\n",
       "parking             0\n",
       "prefarea            0\n",
       "furnishingstatus    0\n",
       "dtype: int64"
      ]
     },
     "execution_count": 5,
     "metadata": {},
     "output_type": "execute_result"
    }
   ],
   "source": [
    "h_d.isnull().sum()"
   ]
  },
  {
   "cell_type": "markdown",
   "metadata": {},
   "source": [
    "No null values in the data"
   ]
  },
  {
   "cell_type": "code",
   "execution_count": 6,
   "metadata": {
    "execution": {
     "iopub.execute_input": "2024-09-14T17:25:38.961337Z",
     "iopub.status.busy": "2024-09-14T17:25:38.960876Z",
     "iopub.status.idle": "2024-09-14T17:25:38.981069Z",
     "shell.execute_reply": "2024-09-14T17:25:38.979612Z",
     "shell.execute_reply.started": "2024-09-14T17:25:38.961298Z"
    }
   },
   "outputs": [
    {
     "data": {
      "text/plain": [
       "0"
      ]
     },
     "execution_count": 6,
     "metadata": {},
     "output_type": "execute_result"
    }
   ],
   "source": [
    "h_d.duplicated().sum()"
   ]
  },
  {
   "cell_type": "markdown",
   "metadata": {},
   "source": [
    "No duplicate rows"
   ]
  },
  {
   "cell_type": "markdown",
   "metadata": {},
   "source": [
    "# Exploratory Data Analysis\n",
    "## Checking various price v/s attribute variations in viz"
   ]
  },
  {
   "cell_type": "markdown",
   "metadata": {},
   "source": [
    "### Boxplot : Price v/s bedroom"
   ]
  },
  {
   "cell_type": "code",
   "execution_count": 7,
   "metadata": {
    "execution": {
     "iopub.execute_input": "2024-09-14T17:25:43.934825Z",
     "iopub.status.busy": "2024-09-14T17:25:43.934254Z",
     "iopub.status.idle": "2024-09-14T17:25:44.258480Z",
     "shell.execute_reply": "2024-09-14T17:25:44.257216Z",
     "shell.execute_reply.started": "2024-09-14T17:25:43.934765Z"
    }
   },
   "outputs": [
    {
     "data": {
      "image/png": "[encoded data removed]",
      "text/plain": [
       "<Figure size 432x288 with 1 Axes>"
      ]
     },
     "metadata": {
      "needs_background": "light"
     },
     "output_type": "display_data"
    }
   ],
   "source": [
    "sns.boxplot(x=h_d['bedrooms'],y=h_d['price'])\n",
    "plt.show()"
   ]
  },
  {
   "cell_type": "markdown",
   "metadata": {},
   "source": [
    "Conclusion: Bedrooms with 4 houses may have other features that are usually the costliest to buy "
   ]
  },
  {
   "cell_type": "markdown",
   "metadata": {},
   "source": [
    "### Violinplot : Price v/s furnishing status"
   ]
  },
  {
   "cell_type": "code",
   "execution_count": 8,
   "metadata": {
    "execution": {
     "iopub.execute_input": "2024-09-14T17:25:47.219161Z",
     "iopub.status.busy": "2024-09-14T17:25:47.218702Z",
     "iopub.status.idle": "2024-09-14T17:25:47.492670Z",
     "shell.execute_reply": "2024-09-14T17:25:47.491361Z",
     "shell.execute_reply.started": "2024-09-14T17:25:47.219119Z"
    }
   },
   "outputs": [
    {
     "data": {
      "image/png": "[encoded data removed]",
      "text/plain": [
       "<Figure size 432x288 with 1 Axes>"
      ]
     },
     "metadata": {
      "needs_background": "light"
     },
     "output_type": "display_data"
    }
   ],
   "source": [
    "sns.violinplot(x=h_d['furnishingstatus'],y=h_d['price'])\n",
    "plt.show()"
   ]
  },
  {
   "cell_type": "markdown",
   "metadata": {},
   "source": [
    "Conclusion: Unfurnished houses are most economical"
   ]
  },
  {
   "cell_type": "markdown",
   "metadata": {},
   "source": []
  },
  {
   "cell_type": "markdown",
   "metadata": {},
   "source": [
    "### Strip plot : Price v/s Parking"
   ]
  },
  {
   "cell_type": "code",
   "execution_count": 9,
   "metadata": {
    "execution": {
     "iopub.execute_input": "2024-09-14T17:25:55.309742Z",
     "iopub.status.busy": "2024-09-14T17:25:55.309284Z",
     "iopub.status.idle": "2024-09-14T17:25:55.525207Z",
     "shell.execute_reply": "2024-09-14T17:25:55.523798Z",
     "shell.execute_reply.started": "2024-09-14T17:25:55.309704Z"
    }
   },
   "outputs": [
    {
     "data": {
      "image/png": "[encoded data removed]",
      "text/plain": [
       "<Figure size 432x288 with 1 Axes>"
      ]
     },
     "metadata": {
      "needs_background": "light"
     },
     "output_type": "display_data"
    }
   ],
   "source": [
    "sns.stripplot(x=h_d['parking'],y=h_d['price'])\n",
    "plt.show()"
   ]
  },
  {
   "cell_type": "markdown",
   "metadata": {},
   "source": [
    "Conclusion : Most of the houses have no parking; houses with 2 parking slots have highest prices."
   ]
  },
  {
   "cell_type": "markdown",
   "metadata": {},
   "source": [
    "# Correlation\n",
    "Strength and direction of linear relation between 2 attributes"
   ]
  },
  {
   "cell_type": "code",
   "execution_count": 10,
   "metadata": {
    "execution": {
     "iopub.execute_input": "2024-09-14T17:25:59.200486Z",
     "iopub.status.busy": "2024-09-14T17:25:59.200073Z",
     "iopub.status.idle": "2024-09-14T17:25:59.220193Z",
     "shell.execute_reply": "2024-09-14T17:25:59.218719Z",
     "shell.execute_reply.started": "2024-09-14T17:25:59.200452Z"
    }
   },
   "outputs": [
    {
     "data": {
      "text/html": [
       "<div>\n",
       "<style scoped>\n",
       "    .dataframe tbody tr th:only-of-type {\n",
       "        vertical-align: middle;\n",
       "    }\n",
       "\n",
       "    .dataframe tbody tr th {\n",
       "        vertical-align: top;\n",
       "    }\n",
       "\n",
       "    .dataframe thead th {\n",
       "        text-align: right;\n",
       "    }\n",
       "</style>\n",
       "<table border=\"1\" class=\"dataframe\">\n",
       "  <thead>\n",
       "    <tr style=\"text-align: right;\">\n",
       "      <th></th>\n",
       "      <th>price</th>\n",
       "      <th>area</th>\n",
       "      <th>bedrooms</th>\n",
       "      <th>bathrooms</th>\n",
       "      <th>stories</th>\n",
       "      <th>parking</th>\n",
       "    </tr>\n",
       "  </thead>\n",
       "  <tbody>\n",
       "    <tr>\n",
       "      <th>price</th>\n",
       "      <td>1.000000</td>\n",
       "      <td>0.535997</td>\n",
       "      <td>0.366494</td>\n",
       "      <td>0.517545</td>\n",
       "      <td>0.420712</td>\n",
       "      <td>0.384394</td>\n",
       "    </tr>\n",
       "    <tr>\n",
       "      <th>area</th>\n",
       "      <td>0.535997</td>\n",
       "      <td>1.000000</td>\n",
       "      <td>0.151858</td>\n",
       "      <td>0.193820</td>\n",
       "      <td>0.083996</td>\n",
       "      <td>0.352980</td>\n",
       "    </tr>\n",
       "    <tr>\n",
       "      <th>bedrooms</th>\n",
       "      <td>0.366494</td>\n",
       "      <td>0.151858</td>\n",
       "      <td>1.000000</td>\n",
       "      <td>0.373930</td>\n",
       "      <td>0.408564</td>\n",
       "      <td>0.139270</td>\n",
       "    </tr>\n",
       "    <tr>\n",
       "      <th>bathrooms</th>\n",
       "      <td>0.517545</td>\n",
       "      <td>0.193820</td>\n",
       "      <td>0.373930</td>\n",
       "      <td>1.000000</td>\n",
       "      <td>0.326165</td>\n",
       "      <td>0.177496</td>\n",
       "    </tr>\n",
       "    <tr>\n",
       "      <th>stories</th>\n",
       "      <td>0.420712</td>\n",
       "      <td>0.083996</td>\n",
       "      <td>0.408564</td>\n",
       "      <td>0.326165</td>\n",
       "      <td>1.000000</td>\n",
       "      <td>0.045547</td>\n",
       "    </tr>\n",
       "    <tr>\n",
       "      <th>parking</th>\n",
       "      <td>0.384394</td>\n",
       "      <td>0.352980</td>\n",
       "      <td>0.139270</td>\n",
       "      <td>0.177496</td>\n",
       "      <td>0.045547</td>\n",
       "      <td>1.000000</td>\n",
       "    </tr>\n",
       "  </tbody>\n",
       "</table>\n",
       "</div>"
      ],
      "text/plain": [
       "              price      area  bedrooms  bathrooms   stories   parking\n",
       "price      1.000000  0.535997  0.366494   0.517545  0.420712  0.384394\n",
       "area       0.535997  1.000000  0.151858   0.193820  0.083996  0.352980\n",
       "bedrooms   0.366494  0.151858  1.000000   0.373930  0.408564  0.139270\n",
       "bathrooms  0.517545  0.193820  0.373930   1.000000  0.326165  0.177496\n",
       "stories    0.420712  0.083996  0.408564   0.326165  1.000000  0.045547\n",
       "parking    0.384394  0.352980  0.139270   0.177496  0.045547  1.000000"
      ]
     },
     "execution_count": 10,
     "metadata": {},
     "output_type": "execute_result"
    }
   ],
   "source": [
    "corr = h_d.corr()\n",
    "corr"
   ]
  },
  {
   "cell_type": "markdown",
   "metadata": {},
   "source": [
    "From the above table we observe that area, bathrooms, stories are most significant factors to affect the pricing value."
   ]
  },
  {
   "cell_type": "code",
   "execution_count": 11,
   "metadata": {
    "execution": {
     "iopub.execute_input": "2024-09-14T17:26:03.829783Z",
     "iopub.status.busy": "2024-09-14T17:26:03.828864Z",
     "iopub.status.idle": "2024-09-14T17:26:03.839963Z",
     "shell.execute_reply": "2024-09-14T17:26:03.838695Z",
     "shell.execute_reply.started": "2024-09-14T17:26:03.829731Z"
    }
   },
   "outputs": [
    {
     "data": {
      "text/plain": [
       "price                int64\n",
       "area                 int64\n",
       "bedrooms             int64\n",
       "bathrooms            int64\n",
       "stories              int64\n",
       "mainroad            object\n",
       "guestroom           object\n",
       "basement            object\n",
       "hotwaterheating     object\n",
       "airconditioning     object\n",
       "parking              int64\n",
       "prefarea            object\n",
       "furnishingstatus    object\n",
       "dtype: object"
      ]
     },
     "execution_count": 11,
     "metadata": {},
     "output_type": "execute_result"
    }
   ],
   "source": [
    "h_d.dtypes"
   ]
  },
  {
   "cell_type": "markdown",
   "metadata": {},
   "source": [
    "We need to label encode the object data types to train our model"
   ]
  },
  {
   "cell_type": "code",
   "execution_count": 14,
   "metadata": {
    "execution": {
     "iopub.execute_input": "2024-09-14T17:26:28.024400Z",
     "iopub.status.busy": "2024-09-14T17:26:28.023916Z",
     "iopub.status.idle": "2024-09-14T17:26:28.030877Z",
     "shell.execute_reply": "2024-09-14T17:26:28.029066Z",
     "shell.execute_reply.started": "2024-09-14T17:26:28.024361Z"
    }
   },
   "outputs": [],
   "source": [
    "from sklearn.preprocessing import LabelEncoder"
   ]
  },
  {
   "cell_type": "code",
   "execution_count": 15,
   "metadata": {
    "execution": {
     "iopub.execute_input": "2024-09-14T17:26:30.192147Z",
     "iopub.status.busy": "2024-09-14T17:26:30.190824Z",
     "iopub.status.idle": "2024-09-14T17:26:30.197423Z",
     "shell.execute_reply": "2024-09-14T17:26:30.195961Z",
     "shell.execute_reply.started": "2024-09-14T17:26:30.192083Z"
    }
   },
   "outputs": [],
   "source": [
    "lb = LabelEncoder()"
   ]
  },
  {
   "cell_type": "markdown",
   "metadata": {},
   "source": [
    "I will put all the object datatype columns into a list so I can iterate through them to Label Encode them."
   ]
  },
  {
   "cell_type": "code",
   "execution_count": 16,
   "metadata": {
    "execution": {
     "iopub.execute_input": "2024-09-14T17:26:32.648640Z",
     "iopub.status.busy": "2024-09-14T17:26:32.648190Z",
     "iopub.status.idle": "2024-09-14T17:26:32.661499Z",
     "shell.execute_reply": "2024-09-14T17:26:32.660122Z",
     "shell.execute_reply.started": "2024-09-14T17:26:32.648600Z"
    }
   },
   "outputs": [],
   "source": [
    "cat_data = ['mainroad','guestroom','basement','hotwaterheating','airconditioning','prefarea','furnishingstatus']\n",
    "for i in cat_data:\n",
    "    h_d[i] = lb.fit_transform(h_d[i])"
   ]
  },
  {
   "cell_type": "code",
   "execution_count": 17,
   "metadata": {
    "execution": {
     "iopub.execute_input": "2024-09-14T17:26:35.309568Z",
     "iopub.status.busy": "2024-09-14T17:26:35.308295Z",
     "iopub.status.idle": "2024-09-14T17:26:35.327236Z",
     "shell.execute_reply": "2024-09-14T17:26:35.325736Z",
     "shell.execute_reply.started": "2024-09-14T17:26:35.309502Z"
    }
   },
   "outputs": [
    {
     "data": {
      "text/html": [
       "<div>\n",
       "<style scoped>\n",
       "    .dataframe tbody tr th:only-of-type {\n",
       "        vertical-align: middle;\n",
       "    }\n",
       "\n",
       "    .dataframe tbody tr th {\n",
       "        vertical-align: top;\n",
       "    }\n",
       "\n",
       "    .dataframe thead th {\n",
       "        text-align: right;\n",
       "    }\n",
       "</style>\n",
       "<table border=\"1\" class=\"dataframe\">\n",
       "  <thead>\n",
       "    <tr style=\"text-align: right;\">\n",
       "      <th></th>\n",
       "      <th>price</th>\n",
       "      <th>area</th>\n",
       "      <th>bedrooms</th>\n",
       "      <th>bathrooms</th>\n",
       "      <th>stories</th>\n",
       "      <th>mainroad</th>\n",
       "      <th>guestroom</th>\n",
       "      <th>basement</th>\n",
       "      <th>hotwaterheating</th>\n",
       "      <th>airconditioning</th>\n",
       "      <th>parking</th>\n",
       "      <th>prefarea</th>\n",
       "      <th>furnishingstatus</th>\n",
       "    </tr>\n",
       "  </thead>\n",
       "  <tbody>\n",
       "    <tr>\n",
       "      <th>0</th>\n",
       "      <td>13300000</td>\n",
       "      <td>7420</td>\n",
       "      <td>4</td>\n",
       "      <td>2</td>\n",
       "      <td>3</td>\n",
       "      <td>1</td>\n",
       "      <td>0</td>\n",
       "      <td>0</td>\n",
       "      <td>0</td>\n",
       "      <td>1</td>\n",
       "      <td>2</td>\n",
       "      <td>1</td>\n",
       "      <td>0</td>\n",
       "    </tr>\n",
       "    <tr>\n",
       "      <th>1</th>\n",
       "      <td>12250000</td>\n",
       "      <td>8960</td>\n",
       "      <td>4</td>\n",
       "      <td>4</td>\n",
       "      <td>4</td>\n",
       "      <td>1</td>\n",
       "      <td>0</td>\n",
       "      <td>0</td>\n",
       "      <td>0</td>\n",
       "      <td>1</td>\n",
       "      <td>3</td>\n",
       "      <td>0</td>\n",
       "      <td>0</td>\n",
       "    </tr>\n",
       "    <tr>\n",
       "      <th>2</th>\n",
       "      <td>12250000</td>\n",
       "      <td>9960</td>\n",
       "      <td>3</td>\n",
       "      <td>2</td>\n",
       "      <td>2</td>\n",
       "      <td>1</td>\n",
       "      <td>0</td>\n",
       "      <td>1</td>\n",
       "      <td>0</td>\n",
       "      <td>0</td>\n",
       "      <td>2</td>\n",
       "      <td>1</td>\n",
       "      <td>1</td>\n",
       "    </tr>\n",
       "    <tr>\n",
       "      <th>3</th>\n",
       "      <td>12215000</td>\n",
       "      <td>7500</td>\n",
       "      <td>4</td>\n",
       "      <td>2</td>\n",
       "      <td>2</td>\n",
       "      <td>1</td>\n",
       "      <td>0</td>\n",
       "      <td>1</td>\n",
       "      <td>0</td>\n",
       "      <td>1</td>\n",
       "      <td>3</td>\n",
       "      <td>1</td>\n",
       "      <td>0</td>\n",
       "    </tr>\n",
       "    <tr>\n",
       "      <th>4</th>\n",
       "      <td>11410000</td>\n",
       "      <td>7420</td>\n",
       "      <td>4</td>\n",
       "      <td>1</td>\n",
       "      <td>2</td>\n",
       "      <td>1</td>\n",
       "      <td>1</td>\n",
       "      <td>1</td>\n",
       "      <td>0</td>\n",
       "      <td>1</td>\n",
       "      <td>2</td>\n",
       "      <td>0</td>\n",
       "      <td>0</td>\n",
       "    </tr>\n",
       "  </tbody>\n",
       "</table>\n",
       "</div>"
      ],
      "text/plain": [
       "      price  area  bedrooms  bathrooms  stories  mainroad  guestroom  \\\n",
       "0  13300000  7420         4          2        3         1          0   \n",
       "1  12250000  8960         4          4        4         1          0   \n",
       "2  12250000  9960         3          2        2         1          0   \n",
       "3  12215000  7500         4          2        2         1          0   \n",
       "4  11410000  7420         4          1        2         1          1   \n",
       "\n",
       "   basement  hotwaterheating  airconditioning  parking  prefarea  \\\n",
       "0         0                0                1        2         1   \n",
       "1         0                0                1        3         0   \n",
       "2         1                0                0        2         1   \n",
       "3         1                0                1        3         1   \n",
       "4         1                0                1        2         0   \n",
       "\n",
       "   furnishingstatus  \n",
       "0                 0  \n",
       "1                 0  \n",
       "2                 1  \n",
       "3                 0  \n",
       "4                 0  "
      ]
     },
     "execution_count": 17,
     "metadata": {},
     "output_type": "execute_result"
    }
   ],
   "source": [
    "h_d.head()"
   ]
  },
  {
   "cell_type": "markdown",
   "metadata": {},
   "source": [
    "Now, all our columns are labelEncoded. "
   ]
  },
  {
   "cell_type": "markdown",
   "metadata": {},
   "source": [
    "# Evaluation functions"
   ]
  },
  {
   "cell_type": "markdown",
   "metadata": {},
   "source": [
    "I will create two function that will test my Training and Test scores and some Error Metrics respectively"
   ]
  },
  {
   "cell_type": "code",
   "execution_count": 20,
   "metadata": {
    "execution": {
     "iopub.execute_input": "2024-09-14T17:27:16.155817Z",
     "iopub.status.busy": "2024-09-14T17:27:16.155376Z",
     "iopub.status.idle": "2024-09-14T17:27:16.163184Z",
     "shell.execute_reply": "2024-09-14T17:27:16.161796Z",
     "shell.execute_reply.started": "2024-09-14T17:27:16.155776Z"
    }
   },
   "outputs": [],
   "source": [
    "def eval(model):\n",
    "    print(\"The training score is,\",model.score(x_train,y_train),end='\\n')\n",
    "    print(\"The testing score is,\",model.score(x_test,y_test))"
   ]
  },
  {
   "cell_type": "code",
   "execution_count": 21,
   "metadata": {
    "execution": {
     "iopub.execute_input": "2024-09-14T17:27:20.409125Z",
     "iopub.status.busy": "2024-09-14T17:27:20.408629Z",
     "iopub.status.idle": "2024-09-14T17:27:20.416340Z",
     "shell.execute_reply": "2024-09-14T17:27:20.415023Z",
     "shell.execute_reply.started": "2024-09-14T17:27:20.409086Z"
    }
   },
   "outputs": [],
   "source": [
    "def metric_score(ypred,y_test):\n",
    "    print(\"The mean absolute error is: \",mean_absolute_error(ypred,y_test))\n",
    "    print(\"The mean squared error is: \",mean_squared_error(ypred,y_test))\n",
    "    print(\"The R2 score is: \",r2_score(ypred,y_test))"
   ]
  },
  {
   "cell_type": "markdown",
   "metadata": {},
   "source": [
    "# Splitting the data"
   ]
  },
  {
   "cell_type": "code",
   "execution_count": 22,
   "metadata": {
    "execution": {
     "iopub.execute_input": "2024-09-14T17:27:26.767937Z",
     "iopub.status.busy": "2024-09-14T17:27:26.767410Z",
     "iopub.status.idle": "2024-09-14T17:27:26.779678Z",
     "shell.execute_reply": "2024-09-14T17:27:26.778423Z",
     "shell.execute_reply.started": "2024-09-14T17:27:26.767898Z"
    }
   },
   "outputs": [],
   "source": [
    "x=h_d.drop('price',axis=1)\n",
    "y=h_d.price"
   ]
  },
  {
   "cell_type": "code",
   "execution_count": 24,
   "metadata": {
    "execution": {
     "iopub.execute_input": "2024-09-14T17:27:32.197039Z",
     "iopub.status.busy": "2024-09-14T17:27:32.196161Z",
     "iopub.status.idle": "2024-09-14T17:27:32.208324Z",
     "shell.execute_reply": "2024-09-14T17:27:32.207050Z",
     "shell.execute_reply.started": "2024-09-14T17:27:32.196998Z"
    }
   },
   "outputs": [
    {
     "name": "stdout",
     "output_type": "stream",
     "text": [
      "   area  bedrooms  bathrooms  stories  mainroad  guestroom  basement  \\\n",
      "0  7420         4          2        3         1          0         0   \n",
      "1  8960         4          4        4         1          0         0   \n",
      "2  9960         3          2        2         1          0         1   \n",
      "3  7500         4          2        2         1          0         1   \n",
      "4  7420         4          1        2         1          1         1   \n",
      "\n",
      "   hotwaterheating  airconditioning  parking  prefarea  furnishingstatus  \n",
      "0                0                1        2         1                 0  \n",
      "1                0                1        3         0                 0  \n",
      "2                0                0        2         1                 1  \n",
      "3                0                1        3         1                 0  \n",
      "4                0                1        2         0                 0  \n",
      "0    13300000\n",
      "1    12250000\n",
      "2    12250000\n",
      "3    12215000\n",
      "4    11410000\n",
      "Name: price, dtype: int64\n",
      "<class 'pandas.core.frame.DataFrame'>\n",
      "<class 'pandas.core.series.Series'>\n"
     ]
    }
   ],
   "source": [
    "print(x.head())\n",
    "print(y.head())\n",
    "print(type(x))\n",
    "print(type(y))"
   ]
  },
  {
   "cell_type": "code",
   "execution_count": 26,
   "metadata": {
    "execution": {
     "iopub.execute_input": "2024-09-14T17:27:39.582707Z",
     "iopub.status.busy": "2024-09-14T17:27:39.582277Z",
     "iopub.status.idle": "2024-09-14T17:27:39.588971Z",
     "shell.execute_reply": "2024-09-14T17:27:39.587412Z",
     "shell.execute_reply.started": "2024-09-14T17:27:39.582670Z"
    }
   },
   "outputs": [],
   "source": [
    "from sklearn.model_selection import train_test_split\n",
    "from sklearn.metrics import mean_absolute_error, mean_squared_error,confusion_matrix,r2_score"
   ]
  },
  {
   "cell_type": "code",
   "execution_count": 27,
   "metadata": {
    "execution": {
     "iopub.execute_input": "2024-09-14T17:27:46.274663Z",
     "iopub.status.busy": "2024-09-14T17:27:46.274124Z",
     "iopub.status.idle": "2024-09-14T17:27:46.284203Z",
     "shell.execute_reply": "2024-09-14T17:27:46.282651Z",
     "shell.execute_reply.started": "2024-09-14T17:27:46.274622Z"
    }
   },
   "outputs": [],
   "source": [
    "x_train, x_test,y_train,y_test = train_test_split(x,y,test_size=0.3,random_state = 5)"
   ]
  },
  {
   "cell_type": "markdown",
   "metadata": {},
   "source": [
    "We split the data into training and test sets with 70:30 ratio"
   ]
  },
  {
   "cell_type": "code",
   "execution_count": 28,
   "metadata": {
    "execution": {
     "iopub.execute_input": "2024-09-14T17:27:59.290663Z",
     "iopub.status.busy": "2024-09-14T17:27:59.290201Z",
     "iopub.status.idle": "2024-09-14T17:27:59.298781Z",
     "shell.execute_reply": "2024-09-14T17:27:59.297478Z",
     "shell.execute_reply.started": "2024-09-14T17:27:59.290622Z"
    }
   },
   "outputs": [
    {
     "name": "stdout",
     "output_type": "stream",
     "text": [
      "(381, 12)  <class 'pandas.core.frame.DataFrame'>\n",
      "(381,) \t  <class 'pandas.core.series.Series'>\n",
      "(164, 12)  <class 'pandas.core.frame.DataFrame'>\n",
      "(164,) \t  <class 'pandas.core.series.Series'>\n"
     ]
    }
   ],
   "source": [
    "print(x_train.shape,\"\",type(x_train))\n",
    "print(y_train.shape,\"\\t \",type(y_train))\n",
    "print(x_test.shape,\"\",type(x_test))\n",
    "print(y_test.shape,\"\\t \",type(y_test))"
   ]
  },
  {
   "cell_type": "markdown",
   "metadata": {},
   "source": [
    "# Model Validation\n",
    "We will use 3 models to check who's accuracy is best"
   ]
  },
  {
   "cell_type": "markdown",
   "metadata": {},
   "source": [
    "## 1) Decision Tree Regressor"
   ]
  },
  {
   "cell_type": "code",
   "execution_count": 29,
   "metadata": {
    "execution": {
     "iopub.execute_input": "2024-09-14T17:28:05.148150Z",
     "iopub.status.busy": "2024-09-14T17:28:05.147655Z",
     "iopub.status.idle": "2024-09-14T17:28:05.311277Z",
     "shell.execute_reply": "2024-09-14T17:28:05.309994Z",
     "shell.execute_reply.started": "2024-09-14T17:28:05.148109Z"
    }
   },
   "outputs": [],
   "source": [
    "from sklearn.tree import DecisionTreeRegressor"
   ]
  },
  {
   "cell_type": "markdown",
   "metadata": {},
   "source": []
  },
  {
   "cell_type": "code",
   "execution_count": 30,
   "metadata": {
    "execution": {
     "iopub.execute_input": "2024-09-14T17:28:16.592157Z",
     "iopub.status.busy": "2024-09-14T17:28:16.591628Z",
     "iopub.status.idle": "2024-09-14T17:28:16.609861Z",
     "shell.execute_reply": "2024-09-14T17:28:16.608277Z",
     "shell.execute_reply.started": "2024-09-14T17:28:16.592114Z"
    }
   },
   "outputs": [
    {
     "data": {
      "text/plain": [
       "DecisionTreeRegressor(max_depth=10, min_samples_split=20, random_state=42)"
      ]
     },
     "execution_count": 30,
     "metadata": {},
     "output_type": "execute_result"
    }
   ],
   "source": [
    "DTRmodel = DecisionTreeRegressor(criterion='squared_error',splitter='best',max_depth = 10, min_samples_split=20,random_state=42)\n",
    "DTRmodel.fit(x_train,y_train)"
   ]
  },
  {
   "cell_type": "code",
   "execution_count": 31,
   "metadata": {
    "execution": {
     "iopub.execute_input": "2024-09-14T17:28:21.547682Z",
     "iopub.status.busy": "2024-09-14T17:28:21.546497Z",
     "iopub.status.idle": "2024-09-14T17:28:21.559607Z",
     "shell.execute_reply": "2024-09-14T17:28:21.558277Z",
     "shell.execute_reply.started": "2024-09-14T17:28:21.547631Z"
    }
   },
   "outputs": [
    {
     "name": "stdout",
     "output_type": "stream",
     "text": [
      "The training score is, 0.7359034045875587\n",
      "The testing score is, 0.4137533567860191\n"
     ]
    }
   ],
   "source": [
    "eval(DTRmodel)"
   ]
  },
  {
   "cell_type": "code",
   "execution_count": 32,
   "metadata": {
    "execution": {
     "iopub.execute_input": "2024-09-14T17:28:25.470640Z",
     "iopub.status.busy": "2024-09-14T17:28:25.470193Z",
     "iopub.status.idle": "2024-09-14T17:28:25.478697Z",
     "shell.execute_reply": "2024-09-14T17:28:25.477491Z",
     "shell.execute_reply.started": "2024-09-14T17:28:25.470604Z"
    }
   },
   "outputs": [],
   "source": [
    "ypred = DTRmodel.predict(x_test)"
   ]
  },
  {
   "cell_type": "code",
   "execution_count": 33,
   "metadata": {
    "execution": {
     "iopub.execute_input": "2024-09-14T17:28:28.197641Z",
     "iopub.status.busy": "2024-09-14T17:28:28.197180Z",
     "iopub.status.idle": "2024-09-14T17:28:28.210802Z",
     "shell.execute_reply": "2024-09-14T17:28:28.209390Z",
     "shell.execute_reply.started": "2024-09-14T17:28:28.197602Z"
    }
   },
   "outputs": [
    {
     "name": "stdout",
     "output_type": "stream",
     "text": [
      "The mean absolute error is:  907505.2489050085\n",
      "The mean squared error is:  1471210626716.3113\n",
      "The R2 score is:  0.35889060137566764\n"
     ]
    }
   ],
   "source": [
    "metric_score(ypred,y_test)"
   ]
  },
  {
   "cell_type": "markdown",
   "metadata": {},
   "source": [
    "Conclusion: When number of min sample split were low it was observed to be a highly overfit model with very bad test scores. On increasing min sample split and max depth the training scored reduced with around 20% increase in test scores. Still not a very good model for predictions."
   ]
  },
  {
   "cell_type": "markdown",
   "metadata": {},
   "source": [
    "## 2) Random Forest Regressor"
   ]
  },
  {
   "cell_type": "code",
   "execution_count": 35,
   "metadata": {
    "execution": {
     "iopub.execute_input": "2024-09-14T17:29:04.931672Z",
     "iopub.status.busy": "2024-09-14T17:29:04.931252Z",
     "iopub.status.idle": "2024-09-14T17:29:04.937906Z",
     "shell.execute_reply": "2024-09-14T17:29:04.936680Z",
     "shell.execute_reply.started": "2024-09-14T17:29:04.931638Z"
    }
   },
   "outputs": [],
   "source": [
    "from sklearn.ensemble import RandomForestRegressor"
   ]
  },
  {
   "cell_type": "code",
   "execution_count": 36,
   "metadata": {
    "execution": {
     "iopub.execute_input": "2024-09-14T17:29:07.304944Z",
     "iopub.status.busy": "2024-09-14T17:29:07.304443Z",
     "iopub.status.idle": "2024-09-14T17:29:07.526403Z",
     "shell.execute_reply": "2024-09-14T17:29:07.525210Z",
     "shell.execute_reply.started": "2024-09-14T17:29:07.304904Z"
    }
   },
   "outputs": [
    {
     "data": {
      "text/plain": [
       "RandomForestRegressor(max_depth=10, min_samples_split=10, random_state=42)"
      ]
     },
     "execution_count": 36,
     "metadata": {},
     "output_type": "execute_result"
    }
   ],
   "source": [
    "RFRmodel = RandomForestRegressor(n_estimators=100,max_depth = 10, min_samples_split=10,random_state=42,criterion='squared_error')\n",
    "RFRmodel.fit(x_train,y_train)"
   ]
  },
  {
   "cell_type": "code",
   "execution_count": 37,
   "metadata": {
    "execution": {
     "iopub.execute_input": "2024-09-14T17:29:13.230952Z",
     "iopub.status.busy": "2024-09-14T17:29:13.230535Z",
     "iopub.status.idle": "2024-09-14T17:29:13.275569Z",
     "shell.execute_reply": "2024-09-14T17:29:13.274251Z",
     "shell.execute_reply.started": "2024-09-14T17:29:13.230917Z"
    }
   },
   "outputs": [
    {
     "name": "stdout",
     "output_type": "stream",
     "text": [
      "The training score is, 0.8294445816326053\n",
      "The testing score is, 0.6541797646271963\n"
     ]
    }
   ],
   "source": [
    "eval(RFRmodel)"
   ]
  },
  {
   "cell_type": "code",
   "execution_count": 38,
   "metadata": {
    "execution": {
     "iopub.execute_input": "2024-09-14T17:29:17.181560Z",
     "iopub.status.busy": "2024-09-14T17:29:17.181111Z",
     "iopub.status.idle": "2024-09-14T17:29:17.205267Z",
     "shell.execute_reply": "2024-09-14T17:29:17.204009Z",
     "shell.execute_reply.started": "2024-09-14T17:29:17.181520Z"
    }
   },
   "outputs": [],
   "source": [
    "ypred2 = RFRmodel.predict(x_test)"
   ]
  },
  {
   "cell_type": "code",
   "execution_count": 39,
   "metadata": {
    "execution": {
     "iopub.execute_input": "2024-09-14T17:29:20.126417Z",
     "iopub.status.busy": "2024-09-14T17:29:20.125948Z",
     "iopub.status.idle": "2024-09-14T17:29:20.135206Z",
     "shell.execute_reply": "2024-09-14T17:29:20.133776Z",
     "shell.execute_reply.started": "2024-09-14T17:29:20.126379Z"
    }
   },
   "outputs": [
    {
     "name": "stdout",
     "output_type": "stream",
     "text": [
      "The mean absolute error is:  719418.2400521481\n",
      "The mean squared error is:  867850436506.9796\n",
      "The R2 score is:  0.5034936387237565\n"
     ]
    }
   ],
   "source": [
    "metric_score(ypred2,y_test)"
   ]
  },
  {
   "cell_type": "markdown",
   "metadata": {},
   "source": [
    "Conclusion: We see a significant 20% improve in testing score compared to Decision Tree Regressor, lesser error variation and 15% R2 score improvement. Changing hyper parameters give about 5-7% change in scores."
   ]
  },
  {
   "cell_type": "markdown",
   "metadata": {},
   "source": [
    "## 3) Linear Regression"
   ]
  },
  {
   "cell_type": "code",
   "execution_count": 41,
   "metadata": {
    "execution": {
     "iopub.execute_input": "2024-09-14T17:29:29.305326Z",
     "iopub.status.busy": "2024-09-14T17:29:29.304856Z",
     "iopub.status.idle": "2024-09-14T17:29:29.311676Z",
     "shell.execute_reply": "2024-09-14T17:29:29.310218Z",
     "shell.execute_reply.started": "2024-09-14T17:29:29.305280Z"
    }
   },
   "outputs": [],
   "source": [
    "from sklearn.linear_model import LinearRegression"
   ]
  },
  {
   "cell_type": "code",
   "execution_count": 42,
   "metadata": {
    "execution": {
     "iopub.execute_input": "2024-09-14T17:29:32.049913Z",
     "iopub.status.busy": "2024-09-14T17:29:32.049378Z",
     "iopub.status.idle": "2024-09-14T17:29:32.075411Z",
     "shell.execute_reply": "2024-09-14T17:29:32.073884Z",
     "shell.execute_reply.started": "2024-09-14T17:29:32.049868Z"
    }
   },
   "outputs": [
    {
     "data": {
      "text/plain": [
       "LinearRegression()"
      ]
     },
     "execution_count": 42,
     "metadata": {},
     "output_type": "execute_result"
    }
   ],
   "source": [
    "LRmodel = LinearRegression()\n",
    "LRmodel.fit(x_train,y_train)"
   ]
  },
  {
   "cell_type": "code",
   "execution_count": 43,
   "metadata": {
    "execution": {
     "iopub.execute_input": "2024-09-14T17:29:34.836676Z",
     "iopub.status.busy": "2024-09-14T17:29:34.836177Z",
     "iopub.status.idle": "2024-09-14T17:29:34.848713Z",
     "shell.execute_reply": "2024-09-14T17:29:34.847290Z",
     "shell.execute_reply.started": "2024-09-14T17:29:34.836635Z"
    }
   },
   "outputs": [
    {
     "name": "stdout",
     "output_type": "stream",
     "text": [
      "The training score is, 0.6722721620878298\n",
      "The testing score is, 0.670112729781189\n"
     ]
    }
   ],
   "source": [
    "eval(LRmodel)"
   ]
  },
  {
   "cell_type": "code",
   "execution_count": 44,
   "metadata": {
    "execution": {
     "iopub.execute_input": "2024-09-14T17:29:46.204172Z",
     "iopub.status.busy": "2024-09-14T17:29:46.203702Z",
     "iopub.status.idle": "2024-09-14T17:29:46.212050Z",
     "shell.execute_reply": "2024-09-14T17:29:46.210900Z",
     "shell.execute_reply.started": "2024-09-14T17:29:46.204132Z"
    }
   },
   "outputs": [],
   "source": [
    "ypred3 = LRmodel.predict(x_test)"
   ]
  },
  {
   "cell_type": "code",
   "execution_count": 45,
   "metadata": {
    "execution": {
     "iopub.execute_input": "2024-09-14T17:31:38.856368Z",
     "iopub.status.busy": "2024-09-14T17:31:38.855247Z",
     "iopub.status.idle": "2024-09-14T17:31:38.865573Z",
     "shell.execute_reply": "2024-09-14T17:31:38.864059Z",
     "shell.execute_reply.started": "2024-09-14T17:31:38.856309Z"
    }
   },
   "outputs": [
    {
     "name": "stdout",
     "output_type": "stream",
     "text": [
      "The mean absolute error is:  721569.6538611307\n",
      "The mean squared error is:  827865989822.312\n",
      "The R2 score is:  0.5614064514555352\n"
     ]
    }
   ],
   "source": [
    "metric_score(ypred3,y_test)"
   ]
  },
  {
   "cell_type": "markdown",
   "metadata": {},
   "source": [
    "Conclusion: Linear Regression Model the best model so far, having 6-8% better score than Random Forest."
   ]
  },
  {
   "cell_type": "markdown",
   "metadata": {},
   "source": [
    "# Accuracy plot"
   ]
  },
  {
   "cell_type": "markdown",
   "metadata": {},
   "source": [
    "Lets plot the scores in a pie plot"
   ]
  },
  {
   "cell_type": "code",
   "execution_count": 46,
   "metadata": {
    "execution": {
     "iopub.execute_input": "2024-09-14T17:31:44.292821Z",
     "iopub.status.busy": "2024-09-14T17:31:44.292347Z",
     "iopub.status.idle": "2024-09-14T17:31:44.404994Z",
     "shell.execute_reply": "2024-09-14T17:31:44.403247Z",
     "shell.execute_reply.started": "2024-09-14T17:31:44.292780Z"
    }
   },
   "outputs": [
    {
     "data": {
      "image/png": "[encoded data removed]",
      "text/plain": [
       "<Figure size 432x288 with 1 Axes>"
      ]
     },
     "metadata": {},
     "output_type": "display_data"
    }
   ],
   "source": [
    "import matplotlib.pyplot as plt\n",
    "\n",
    "models = ['Decision Tree','Random Forest','Linear Regression']\n",
    "scores = [35.5,50.3,56.1]\n",
    "\n",
    "plt.pie(scores,labels=models)\n",
    "plt.show()"
   ]
  },
  {
   "cell_type": "code",
   "execution_count": 49,
   "metadata": {
    "execution": {
     "iopub.execute_input": "2024-09-14T17:41:11.849610Z",
     "iopub.status.busy": "2024-09-14T17:41:11.849030Z",
     "iopub.status.idle": "2024-09-14T17:41:11.861895Z",
     "shell.execute_reply": "2024-09-14T17:41:11.860404Z",
     "shell.execute_reply.started": "2024-09-14T17:41:11.849558Z"
    }
   },
   "outputs": [
    {
     "data": {
      "text/plain": [
       "['mlop.pkl']"
      ]
     },
     "execution_count": 49,
     "metadata": {},
     "output_type": "execute_result"
    }
   ],
   "source": [
    "joblib.dump(LRmodel, 'mlop.pkl')"
   ]
  },
  {
   "cell_type": "code",
   "execution_count": null,
   "metadata": {},
   "outputs": [],
   "source": []
  }
 ],
 "metadata": {
  "kaggle": {
   "accelerator": "none",
   "dataSources": [
    {
     "datasetId": 1859421,
     "sourceId": 3036086,
     "sourceType": "datasetVersion"
    }
   ],
   "dockerImageVersionId": 30260,
   "isGpuEnabled": false,
   "isInternetEnabled": false,
   "language": "python",
   "sourceType": "notebook"
  },
  "kernelspec": {
   "display_name": "Python 3 (ipykernel)",
   "language": "python",
   "name": "python3"
  },
  "language_info": {
   "codemirror_mode": {
    "name": "ipython",
    "version": 3
   },
   "file_extension": ".py",
   "mimetype": "text/x-python",
   "name": "python",
   "nbconvert_exporter": "python",
   "pygments_lexer": "ipython3",
   "version": "3.11.3"
  }
 },
 "nbformat": 4,
 "nbformat_minor": 4
}
